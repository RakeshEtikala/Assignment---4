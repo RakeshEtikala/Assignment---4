{
 "cells": [
  {
   "cell_type": "markdown",
   "id": "61fd3982-e4c3-4455-b347-8eb6a53b57d3",
   "metadata": {},
   "source": [
    "## Control Flow:"
   ]
  },
  {
   "cell_type": "code",
   "execution_count": 2,
   "id": "5e394c97-5e04-4d92-908e-d1ad64073fb1",
   "metadata": {},
   "outputs": [
    {
     "name": "stdin",
     "output_type": "stream",
     "text": [
      "Enter any number to check if it is positive or negative number -5\n"
     ]
    },
    {
     "name": "stdout",
     "output_type": "stream",
     "text": [
      "It is a negative number\n"
     ]
    }
   ],
   "source": [
    "# 1. Write a Python program to check if a given number is positive or negative.\n",
    "user = int(input(\"Enter any number to check if it is positive or negative number\"))\n",
    "if user >= 0:\n",
    "    print(\"It is a positive number\")\n",
    "else:\n",
    "    print(\"It is a negative number\")"
   ]
  },
  {
   "cell_type": "code",
   "execution_count": 4,
   "id": "46baa0e7-ae9b-4430-a3c7-11fec16d206e",
   "metadata": {},
   "outputs": [
    {
     "name": "stdin",
     "output_type": "stream",
     "text": [
      "Enter your age to check if you are eligible to vote. 17\n"
     ]
    },
    {
     "name": "stdout",
     "output_type": "stream",
     "text": [
      "You are not eligble to vote\n"
     ]
    }
   ],
   "source": [
    "# 2. Create a program that determines if a person is eligible to vote based on their age.\n",
    "user = int(input(\"Enter your age to check if you are eligible to vote.\"))\n",
    "if user >= 18:\n",
    "    print(\"Your are eligible to vote.\")\n",
    "else:\n",
    "    print(\"You are not eligble to vote.\")"
   ]
  },
  {
   "cell_type": "code",
   "execution_count": 10,
   "id": "ff336b60-7dfd-421b-9380-a3713f70efdc",
   "metadata": {},
   "outputs": [
    {
     "name": "stdin",
     "output_type": "stream",
     "text": [
      "Enter first Number 85\n",
      "Enter Second Number 99\n"
     ]
    },
    {
     "name": "stdout",
     "output_type": "stream",
     "text": [
      "99\n"
     ]
    }
   ],
   "source": [
    "# Develop a program to find the maximum of two numbers using if-else statements.\n",
    "First_number = int(input(\"Enter first Number\"))\n",
    "Second_number = int(input(\"Enter Second Number\"))\n",
    "if First_number >= Second_number:\n",
    "    print(First_number)\n",
    "else:\n",
    "    print(Second_number)"
   ]
  },
  {
   "cell_type": "code",
   "execution_count": 18,
   "id": "2a74add9-26e2-4bba-b115-b6bb840477c9",
   "metadata": {},
   "outputs": [
    {
     "name": "stdin",
     "output_type": "stream",
     "text": [
      "Enter any year to check if it is leap year or not. 2012\n"
     ]
    },
    {
     "name": "stdout",
     "output_type": "stream",
     "text": [
      "I am Leap year 2012\n"
     ]
    }
   ],
   "source": [
    "# Write a Python script to classify a given year as a leap year or not.\n",
    "user =  int(input(\"Enter any year to check if it is leap year or not.\"))\n",
    "if  (user % 4 == 0 and user % 100 != 0) or (user % 400 == 0):\n",
    "    print(f\"I am Leap year\",user)\n",
    "else:\n",
    "    print(\"I am not a leap year\")"
   ]
  },
  {
   "cell_type": "code",
   "execution_count": 34,
   "id": "8eceea01-5798-4e23-ba8a-28a6180b3775",
   "metadata": {},
   "outputs": [
    {
     "name": "stdin",
     "output_type": "stream",
     "text": [
      "Enter a character to check if it's a vowel or consonant:  a\n"
     ]
    },
    {
     "name": "stdout",
     "output_type": "stream",
     "text": [
      "The character is a vowel.\n"
     ]
    }
   ],
   "source": [
    "# Create a program that checks whether a character is a vowel or a consonant.\n",
    "# Input a character from the user and convert it to lowercase\n",
    "char = input(\"Enter a character to check if it's a vowel or consonant: \").lower()\n",
    "\n",
    "# Check if it's a single character and if it's a vowel\n",
    "if char in 'aeiou':\n",
    "    print(\"The character is a vowel.\")\n",
    "else:\n",
    "    print(\"The character is a consonant.\")\n"
   ]
  },
  {
   "cell_type": "code",
   "execution_count": 37,
   "id": "bd777613-dce5-4abd-aba7-4d78d710a7b7",
   "metadata": {},
   "outputs": [
    {
     "name": "stdin",
     "output_type": "stream",
     "text": [
      "Enter any integer to check if it is even or odd 4\n"
     ]
    },
    {
     "name": "stdout",
     "output_type": "stream",
     "text": [
      "It is a even number\n"
     ]
    }
   ],
   "source": [
    "# Implement a program to determine whether a given number is even or odd.\n",
    "User = int(input(\"Enter any integer to check if it is even or odd\"))\n",
    "if User % 2 == 0:\n",
    "    print(\"It is a even number\")\n",
    "else:\n",
    "    print(\"It is a odd number\")"
   ]
  },
  {
   "cell_type": "code",
   "execution_count": 6,
   "id": "d7e5ab1c-037c-4a53-b7e9-6997376fdded",
   "metadata": {},
   "outputs": [
    {
     "name": "stdin",
     "output_type": "stream",
     "text": [
      "Enter any integer -8\n"
     ]
    },
    {
     "name": "stdout",
     "output_type": "stream",
     "text": [
      "8\n"
     ]
    }
   ],
   "source": [
    "# Write a Python function to calculate the absolute value of a number without using the `abs()` function.\n",
    "User = int(input(\"Enter any integer\"))\n",
    "if User < 0:\n",
    "    User = -User\n",
    "    print(User)\n",
    "else:\n",
    "    print(User)"
   ]
  },
  {
   "cell_type": "code",
   "execution_count": 11,
   "id": "3143a47b-b6d0-4503-820e-409bb149f19a",
   "metadata": {},
   "outputs": [
    {
     "name": "stdout",
     "output_type": "stream",
     "text": [
      "100\n",
      "30\n"
     ]
    }
   ],
   "source": [
    "# Develop a program that determines the largest of three given numbers using if-else statements.\n",
    "a = 100\n",
    "b = 20\n",
    "c = 30 \n",
    "if a>b and a>c:\n",
    "    print(a)\n",
    "if b>c and b>a:\n",
    "    print(b)\n",
    "else:\n",
    "    print(c)"
   ]
  },
  {
   "cell_type": "code",
   "execution_count": 18,
   "id": "8c744dea-da35-4b38-a928-cbbd82ff1a76",
   "metadata": {},
   "outputs": [
    {
     "name": "stdin",
     "output_type": "stream",
     "text": [
      "Enter the score of student to get the grade 788\n"
     ]
    },
    {
     "name": "stdout",
     "output_type": "stream",
     "text": [
      "Enter a valid input\n"
     ]
    }
   ],
   "source": [
    "# Write a Python program to calculate the grade based on a student's score.\n",
    "user = int(input(\"Enter the score of student to get the grade\"))\n",
    "if user   >=85 and user <=100:\n",
    "    print(\"Student grade is A+\")\n",
    "elif user >= 75 and user <=85:\n",
    "    print(\"Student grade is B+\")\n",
    "elif user >= 65 and user <=75:\n",
    "    print(\"Student grade is C\")\n",
    "elif user >= 35 and user <=65:\n",
    "    print(\"Student grade is F\")\n",
    "else:\n",
    "    print(\"Enter a valid input\")"
   ]
  },
  {
   "cell_type": "code",
   "execution_count": 20,
   "id": "7ad43549-fe3c-4448-818e-4341ac5cdda8",
   "metadata": {},
   "outputs": [
    {
     "name": "stdin",
     "output_type": "stream",
     "text": [
      "Enter any word wrferg\n"
     ]
    },
    {
     "name": "stdout",
     "output_type": "stream",
     "text": [
      "It is not a palindrome\n"
     ]
    }
   ],
   "source": [
    "# Create a program that checks if a given string is a palindrome.\n",
    "User = input(\"Enter any word\")\n",
    "if (User == User [::-1]):\n",
    "    print(\"It is a palindrome\")\n",
    "else:\n",
    "    print(\"It is not a palindrome\")"
   ]
  },
  {
   "cell_type": "code",
   "execution_count": null,
   "id": "433a8c06-0551-4e1b-9093-3557e492840e",
   "metadata": {},
   "outputs": [],
   "source": [
    "# 21. Write a Python program to assign grades based on different ranges of scores using elif statements.\n",
    "user = int(input(\"Enter the score of student to get the grade\"))\n",
    "if user   >=85 and user <=100:\n",
    "    print(\"Student grade is A+\")\n",
    "elif user >= 75 and user <=85:\n",
    "    print(\"Student grade is B+\")\n",
    "elif user >= 65 and user <=75:\n",
    "    print(\"Student grade is C\")\n",
    "elif user >= 35 and user <=65:\n",
    "    print(\"Student grade is F\")\n",
    "else:\n",
    "    print(\"Enter a valid input\")"
   ]
  },
  {
   "cell_type": "code",
   "execution_count": 5,
   "id": "1ad66185-4f41-4ac1-a76a-bdd943c47bab",
   "metadata": {},
   "outputs": [
    {
     "name": "stdin",
     "output_type": "stream",
     "text": [
      "Enter your weight 75\n",
      "Enter your height 167\n"
     ]
    },
    {
     "name": "stdout",
     "output_type": "stream",
     "text": [
      "You are under Weight\n"
     ]
    }
   ],
   "source": [
    "# Develop a program to categorize a given person's BMI into underweight, normal, overweight, or obese using elif statements.\n",
    "weight = int(input(\"Enter your weight\"))\n",
    "height = int(input(\"Enter your height\"))\n",
    "BMI = weight/height*2\n",
    "if BMI <= 18.5:\n",
    "    print(\"You are under Weight\")\n",
    "elif BMI >= 18.5 and BMI <= 24.9:\n",
    "    print(\"You are healthy\")\n",
    "elif BMI >= 25.0 and BMI <= 29.9:\n",
    "    print(\"You are overweight\")\n",
    "else:\n",
    "    print(\"You are obese\")"
   ]
  },
  {
   "cell_type": "code",
   "execution_count": 3,
   "id": "f5606bca-1f2c-4a63-a6db-7fe281f32361",
   "metadata": {},
   "outputs": [
    {
     "name": "stdin",
     "output_type": "stream",
     "text": [
      "Enter any word to check if it is in upper case or lower case D\n"
     ]
    },
    {
     "name": "stdout",
     "output_type": "stream",
     "text": [
      "It is in upper\n"
     ]
    }
   ],
   "source": [
    "# Write a Python program to categorize a given character as uppercase, lowercase, or neither using if-else.\n",
    "user_input = input(\"Enter any word to check if it is in upper case or lower case\")\n",
    "if user_input ==  user_input.lower():\n",
    "    print(\"It is in lower\")\n",
    "else:\n",
    "    print(\"It is in upper\")"
   ]
  },
  {
   "cell_type": "code",
   "execution_count": 5,
   "id": "bfdc1fd7-6c9d-4cd3-8e1a-19a21db5dd34",
   "metadata": {},
   "outputs": [
    {
     "name": "stdin",
     "output_type": "stream",
     "text": [
      "Enter a string \n"
     ]
    },
    {
     "name": "stdout",
     "output_type": "stream",
     "text": [
      "You didnt enter any string\n"
     ]
    }
   ],
   "source": [
    "# Write a Python program to check if a string is empty or not using if-else.\n",
    "User_input= input(\"Enter a string\")\n",
    "if User_input:\n",
    "    print(\"You have enter a string\", User_input)\n",
    "else:\n",
    "    print(\"You didnt enter any string\")"
   ]
  },
  {
   "cell_type": "markdown",
   "id": "52a44ea8-39ac-4740-85f3-1c0a5bc2ed03",
   "metadata": {},
   "source": [
    "Map"
   ]
  },
  {
   "cell_type": "code",
   "execution_count": 6,
   "id": "d1df68b3-9106-4584-9c94-ff3e9319243b",
   "metadata": {},
   "outputs": [
    {
     "data": {
      "text/plain": [
       "[1, 4, 9, 16, 25, 64, 81]"
      ]
     },
     "execution_count": 6,
     "metadata": {},
     "output_type": "execute_result"
    }
   ],
   "source": [
    "# Write a Python program that uses the `map()` function to square each element of a list of numbers.\n",
    "l1 = [1,2,3,4,5,8,9]\n",
    "list(map(lambda a:a**2,l1))"
   ]
  },
  {
   "cell_type": "code",
   "execution_count": 7,
   "id": "fafd2119-35dd-4d88-bb8f-9827eeddd1cd",
   "metadata": {},
   "outputs": [
    {
     "data": {
      "text/plain": [
       "['RAKESH', 'ETIKALA']"
      ]
     },
     "execution_count": 7,
     "metadata": {},
     "output_type": "execute_result"
    }
   ],
   "source": [
    "# Create a Python program that uses the `map()` function to convert a list of names to uppercase.\n",
    "l2 = [\"Rakesh\",\"Etikala\"]\n",
    "list(map(lambda a:a.upper(),l2))"
   ]
  },
  {
   "cell_type": "code",
   "execution_count": 8,
   "id": "b5423c4e-53df-45cc-9ca2-07f858ca2052",
   "metadata": {},
   "outputs": [
    {
     "data": {
      "text/plain": [
       "[6, 7]"
      ]
     },
     "execution_count": 8,
     "metadata": {},
     "output_type": "execute_result"
    }
   ],
   "source": [
    "# Write a Python program that uses the `map()` function to calculate the length of each word in a list of strings.\n",
    "list(map(lambda a:len(a),l2))"
   ]
  },
  {
   "cell_type": "code",
   "execution_count": 10,
   "id": "f357b011-ff73-4796-a301-b82b039fe8a6",
   "metadata": {},
   "outputs": [
    {
     "data": {
      "text/plain": [
       "[66.2, 93.2, 113.0]"
      ]
     },
     "execution_count": 10,
     "metadata": {},
     "output_type": "execute_result"
    }
   ],
   "source": [
    "# Create a Python program that uses `map()` to convert a list of temperatures from Celsius to Fahrenheit.\n",
    "l1 = [19,34,45]\n",
    "list(map(lambda a:(a * 9/5) + 32,l1))"
   ]
  },
  {
   "cell_type": "code",
   "execution_count": 11,
   "id": "8bd498a2-e1b7-4b74-bf85-91cdd46326b7",
   "metadata": {},
   "outputs": [
    {
     "data": {
      "text/plain": [
       "[66, 93, 113]"
      ]
     },
     "execution_count": 11,
     "metadata": {},
     "output_type": "execute_result"
    }
   ],
   "source": [
    "# Write a Python program that uses the `map()` function to round each element of a list of floating-point numbers to the nearest integer.\n",
    "l1 = [66.2, 93.2, 113.0]\n",
    "list(map(lambda a:round(a),l1))"
   ]
  },
  {
   "cell_type": "markdown",
   "id": "2f99daf6-9a59-49fb-98c0-53f714f6b999",
   "metadata": {},
   "source": [
    "Reduce"
   ]
  },
  {
   "cell_type": "code",
   "execution_count": 33,
   "id": "4d0283ad-2926-4968-b820-1e0a2a391e28",
   "metadata": {},
   "outputs": [
    {
     "data": {
      "text/plain": [
       "362880"
      ]
     },
     "execution_count": 33,
     "metadata": {},
     "output_type": "execute_result"
    }
   ],
   "source": [
    "# Write a Python program that uses the `reduce()` function to find the product of all elements in a list\n",
    "from functools import reduce\n",
    "l3 = [1,2,3,4,5,6,7,8,9]\n",
    "reduce(lambda a,b:a*b,l3)"
   ]
  },
  {
   "cell_type": "code",
   "execution_count": 18,
   "id": "b1ecaf8a-abab-4cc9-9eb8-133161672f03",
   "metadata": {},
   "outputs": [
    {
     "data": {
      "text/plain": [
       "9"
      ]
     },
     "execution_count": 18,
     "metadata": {},
     "output_type": "execute_result"
    }
   ],
   "source": [
    "# Create a Python program that uses `reduce()` to find the maximum element in a list of numbers.\n",
    "l3 = [1,2,3,4,5,6,7,8,9]\n",
    "reduce(lambda a,b: a if a>b else b,l3)"
   ]
  },
  {
   "cell_type": "code",
   "execution_count": 20,
   "id": "2d965607-a542-4526-9acd-5ec583766205",
   "metadata": {},
   "outputs": [
    {
     "data": {
      "text/plain": [
       "'rakesh'"
      ]
     },
     "execution_count": 20,
     "metadata": {},
     "output_type": "execute_result"
    }
   ],
   "source": [
    "# How can you use the `reduce()` function to concatenate a list of strings into a single string?\n",
    "l4 = [\"r\",\"a\",\"k\",\"e\",\"s\",\"h\"]\n",
    "reduce(lambda a,b:a+b,l4)"
   ]
  },
  {
   "cell_type": "code",
   "execution_count": 25,
   "id": "7154ab5b-f81e-4803-bedc-442f64dba270",
   "metadata": {},
   "outputs": [
    {
     "data": {
      "text/plain": [
       "24"
      ]
     },
     "execution_count": 25,
     "metadata": {},
     "output_type": "execute_result"
    }
   ],
   "source": [
    "# Write a Python program that calculates the factorial of a number using the `reduce()` function.\n",
    "n= 4\n",
    "l5 = range(1,n+1)\n",
    "reduce(lambda a,b:a*b,l5)"
   ]
  },
  {
   "cell_type": "code",
   "execution_count": 35,
   "id": "5f0055ab-b82a-407b-8307-b669267f68aa",
   "metadata": {},
   "outputs": [
    {
     "data": {
      "text/plain": [
       "17"
      ]
     },
     "execution_count": 35,
     "metadata": {},
     "output_type": "execute_result"
    }
   ],
   "source": [
    "# Write a Python program that uses the `reduce()` function to find the sum of the digits of a given number.\n",
    "l6 = [1,2,3,5,6]\n",
    "reduce(lambda a,b:a+b,l6)"
   ]
  },
  {
   "cell_type": "markdown",
   "id": "6ea92cbf-5cd9-45c0-8d27-10d4c96c37d3",
   "metadata": {},
   "source": [
    "Filter"
   ]
  },
  {
   "cell_type": "code",
   "execution_count": 39,
   "id": "650b5c19-1c9d-472c-a540-38c160d61742",
   "metadata": {},
   "outputs": [
    {
     "data": {
      "text/plain": [
       "[2, 6]"
      ]
     },
     "execution_count": 39,
     "metadata": {},
     "output_type": "execute_result"
    }
   ],
   "source": [
    "# Write a Python program that uses the `filter()` function to select even numbers from a list of integers.\n",
    "l6 = [1,2,3,5,6]\n",
    "list(filter(lambda a:a%2==0,l6))"
   ]
  },
  {
   "cell_type": "code",
   "execution_count": 43,
   "id": "db63c64d-ee60-4108-b168-fd5e011fd9e1",
   "metadata": {},
   "outputs": [
    {
     "data": {
      "text/plain": [
       "['Etikala', 'Egg', 'Easter']"
      ]
     },
     "execution_count": 43,
     "metadata": {},
     "output_type": "execute_result"
    }
   ],
   "source": [
    "# Create a Python program that uses the `filter()` function to select names that start with a specific letter from a list of strings.\n",
    "l7 = [\"Rakesh\",\"Etikala\",\"Egg\", \"Easter\",\"Filter\",\"Function\"]\n",
    "list(filter(lambda a:a.startswith(\"E\"),l7))"
   ]
  },
  {
   "cell_type": "code",
   "execution_count": 49,
   "id": "9315370b-60e5-4986-a1a4-58e00ef8f332",
   "metadata": {},
   "outputs": [
    {
     "data": {
      "text/plain": [
       "['Etikala', 'Function']"
      ]
     },
     "execution_count": 49,
     "metadata": {},
     "output_type": "execute_result"
    }
   ],
   "source": [
    "# Create a Python program that uses `filter()` to select words longer than a certain length from a list of strings.\n",
    "l7 = [\"Rakesh\",\"Etikala\",\"Egg\", \"Easter\",\"Filter\",\"Function\"]\n",
    "length =  7\n",
    "list(filter(lambda a:len(a)>=length ,l7))"
   ]
  },
  {
   "cell_type": "code",
   "execution_count": 50,
   "id": "e4630cab-0418-4cd1-a85e-a9c502b32bb8",
   "metadata": {},
   "outputs": [
    {
     "data": {
      "text/plain": [
       "['Rakesh', 'Etikala', 'Egg', 'Easter', 'Filter', 'Function']"
      ]
     },
     "execution_count": 50,
     "metadata": {},
     "output_type": "execute_result"
    }
   ],
   "source": [
    "# Write a Python program that uses the `filter()` function to select elements greater than a specified threshold from a list of values.\n",
    "l7 = [\"Rakesh\",\"Etikala\",\"Egg\", \"Easter\",\"Filter\",\"Function\"]\n",
    "length =  3\n",
    "list(filter(lambda a:len(a)>=length ,l7))"
   ]
  },
  {
   "cell_type": "markdown",
   "id": "4754c5bb-abf7-4bbb-8d69-068948eaba22",
   "metadata": {},
   "source": [
    "Recursion"
   ]
  },
  {
   "cell_type": "code",
   "execution_count": 2,
   "id": "61b55d79-aae7-401d-b051-3d57e8058086",
   "metadata": {},
   "outputs": [],
   "source": [
    "# Write a Python program to calculate the factorial of a number using recursion.\n",
    "def factorial(n):\n",
    "    if factorial == 1:\n",
    "        return n\n",
    "    else:\n",
    "        return n*factorial(n-1)"
   ]
  },
  {
   "cell_type": "code",
   "execution_count": null,
   "id": "44658599-4a29-45db-91b0-bd04fb897099",
   "metadata": {},
   "outputs": [],
   "source": [
    "# Create a recursive Python function to find the nth Fibonacci number.\n"
   ]
  },
  {
   "cell_type": "code",
   "execution_count": null,
   "id": "668da1da-99d7-43cb-825a-b35ca222c156",
   "metadata": {},
   "outputs": [],
   "source": []
  }
 ],
 "metadata": {
  "kernelspec": {
   "display_name": "Python 3 (ipykernel)",
   "language": "python",
   "name": "python3"
  },
  "language_info": {
   "codemirror_mode": {
    "name": "ipython",
    "version": 3
   },
   "file_extension": ".py",
   "mimetype": "text/x-python",
   "name": "python",
   "nbconvert_exporter": "python",
   "pygments_lexer": "ipython3",
   "version": "3.10.8"
  }
 },
 "nbformat": 4,
 "nbformat_minor": 5
}
